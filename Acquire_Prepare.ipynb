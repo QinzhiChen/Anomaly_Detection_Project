{
 "cells": [
  {
   "cell_type": "code",
   "execution_count": 1,
   "id": "efad5149",
   "metadata": {},
   "outputs": [],
   "source": [
    "import warnings\n",
    "warnings.filterwarnings(\"ignore\")\n",
    "import matplotlib.pyplot as plt\n",
    "import numpy as np\n",
    "import pandas as pd\n",
    "import seaborn as sns\n",
    "import env\n",
    "import os"
   ]
  },
  {
   "cell_type": "code",
   "execution_count": 2,
   "id": "cfa7db97",
   "metadata": {},
   "outputs": [],
   "source": [
    "# acquire the data from local drive\n",
    "#  create a function for it\n",
    "def acquire(file_name, column_names):\n",
    "    cohort=get_cohort()\n",
    "    df=pd.read_csv(file_name, sep=\"\\s\", \n",
    "                       header=None, \n",
    "                       names=column_names, \n",
    "                       usecols=[0, 2, 3,4, 5]) \n",
    "    cohort=cohort.rename(columns={'id':'cohort_id'})\n",
    "    df=pd.merge(cohort,df,on='cohort_id')\n",
    "    df=df.drop(columns=['deleted_at'])\n",
    "    return df"
   ]
  },
  {
   "cell_type": "code",
   "execution_count": 3,
   "id": "b60de43e",
   "metadata": {},
   "outputs": [],
   "source": [
    "def get_connection(db, user=env.user, host=env.host, password=env.password):\n",
    "    return f'mysql+pymysql://{user}:{password}@{host}/{db}'\n",
    "\n",
    "def get_cohort():\n",
    "    filename = \"cohort.csv\"\n",
    "    if os.path.isfile(filename):\n",
    "        return pd.read_csv(filename)\n",
    "    else:\n",
    "        # read the SQL query into a dataframe\n",
    "        df = pd.read_sql('SELECT * FROM cohorts', get_connection('curriculum_logs'))\n",
    "\n",
    "        # Write that dataframe to disk for later. Called \"caching\" the data for later.\n",
    "        df.to_csv(filename,index=False)\n",
    "\n",
    "        # Return the dataframe to the calling code\n",
    "        return df  "
   ]
  },
  {
   "cell_type": "code",
   "execution_count": 4,
   "id": "e23e2c54",
   "metadata": {},
   "outputs": [],
   "source": [
    "# clean up the columns and set date to datetime\n",
    "# change date to index\n",
    "def prep(df, user):\n",
    "    df = df[df.user_id == user]\n",
    "    df.date = pd.to_datetime(df.date)\n",
    "    df = df.set_index(df.date)\n",
    "    return df"
   ]
  },
  {
   "cell_type": "code",
   "execution_count": 5,
   "id": "54c70dde",
   "metadata": {},
   "outputs": [],
   "source": [
    "file_name = \"anonymized-curriculum-access.txt\"\n",
    "column_names = ['date', 'endpoint', 'user_id', 'cohort_id', 'source_ip']\n",
    "df = acquire(file_name, column_names)"
   ]
  },
  {
   "cell_type": "code",
   "execution_count": 6,
   "id": "094ca5a0",
   "metadata": {},
   "outputs": [
    {
     "name": "stdout",
     "output_type": "stream",
     "text": [
      "<class 'pandas.core.frame.DataFrame'>\n",
      "Int64Index: 847330 entries, 0 to 847329\n",
      "Data columns (total 12 columns):\n",
      " #   Column      Non-Null Count   Dtype \n",
      "---  ------      --------------   ----- \n",
      " 0   cohort_id   847330 non-null  int64 \n",
      " 1   name        847330 non-null  object\n",
      " 2   slack       847330 non-null  object\n",
      " 3   start_date  847330 non-null  object\n",
      " 4   end_date    847330 non-null  object\n",
      " 5   created_at  847330 non-null  object\n",
      " 6   updated_at  847330 non-null  object\n",
      " 7   program_id  847330 non-null  int64 \n",
      " 8   date        847330 non-null  object\n",
      " 9   endpoint    847329 non-null  object\n",
      " 10  user_id     847330 non-null  int64 \n",
      " 11  source_ip   847330 non-null  object\n",
      "dtypes: int64(3), object(9)\n",
      "memory usage: 84.0+ MB\n"
     ]
    }
   ],
   "source": [
    "# check missing value\n",
    "df.info()"
   ]
  },
  {
   "cell_type": "code",
   "execution_count": 7,
   "id": "3afe4ed6",
   "metadata": {},
   "outputs": [
    {
     "data": {
      "text/plain": [
       "0           1\n",
       "1           1\n",
       "2           1\n",
       "3           1\n",
       "4           1\n",
       "         ... \n",
       "847325    139\n",
       "847326    139\n",
       "847327    139\n",
       "847328    139\n",
       "847329    139\n",
       "Name: cohort_id, Length: 847330, dtype: int64"
      ]
     },
     "execution_count": 7,
     "metadata": {},
     "output_type": "execute_result"
    }
   ],
   "source": [
    "# the cohort_id alone has 900223 value count\n",
    "df.cohort_id"
   ]
  },
  {
   "cell_type": "code",
   "execution_count": 8,
   "id": "25e81a89",
   "metadata": {},
   "outputs": [
    {
     "data": {
      "text/plain": [
       "Series([], Name: cohort_id, dtype: int64)"
      ]
     },
     "execution_count": 8,
     "metadata": {},
     "output_type": "execute_result"
    }
   ],
   "source": [
    "# it looks like users without cohort_id are all the same, which means some users didn't assigned a cohort_id\n",
    "df[df.user_id==48].cohort_id"
   ]
  },
  {
   "cell_type": "code",
   "execution_count": 9,
   "id": "8e8db36f",
   "metadata": {},
   "outputs": [
    {
     "data": {
      "text/plain": [
       "Series([], Name: date, dtype: int64)"
      ]
     },
     "execution_count": 9,
     "metadata": {},
     "output_type": "execute_result"
    }
   ],
   "source": [
    "# check if they have spread out date\n",
    "df[df.cohort_id.isnull()].date.value_counts()"
   ]
  },
  {
   "cell_type": "code",
   "execution_count": 10,
   "id": "1058ae29",
   "metadata": {},
   "outputs": [],
   "source": [
    "# now get cohort from sql\n",
    "cohort=get_cohort()"
   ]
  },
  {
   "cell_type": "code",
   "execution_count": 11,
   "id": "6127bd38",
   "metadata": {},
   "outputs": [],
   "source": [
    "# retireve data\n",
    "cohort=cohort.rename(columns={'id':'cohort_id'})"
   ]
  },
  {
   "cell_type": "code",
   "execution_count": 12,
   "id": "fcc5f2db",
   "metadata": {},
   "outputs": [
    {
     "name": "stdout",
     "output_type": "stream",
     "text": [
      "<class 'pandas.core.frame.DataFrame'>\n",
      "RangeIndex: 53 entries, 0 to 52\n",
      "Data columns (total 9 columns):\n",
      " #   Column      Non-Null Count  Dtype  \n",
      "---  ------      --------------  -----  \n",
      " 0   cohort_id   53 non-null     int64  \n",
      " 1   name        53 non-null     object \n",
      " 2   slack       53 non-null     object \n",
      " 3   start_date  53 non-null     object \n",
      " 4   end_date    53 non-null     object \n",
      " 5   created_at  53 non-null     object \n",
      " 6   updated_at  53 non-null     object \n",
      " 7   deleted_at  0 non-null      float64\n",
      " 8   program_id  53 non-null     int64  \n",
      "dtypes: float64(1), int64(2), object(6)\n",
      "memory usage: 3.9+ KB\n"
     ]
    }
   ],
   "source": [
    "# cohort ahas 53 unique\n",
    "cohort.info()"
   ]
  },
  {
   "cell_type": "code",
   "execution_count": 13,
   "id": "a148db8c",
   "metadata": {},
   "outputs": [
    {
     "data": {
      "text/plain": [
       "911"
      ]
     },
     "execution_count": 13,
     "metadata": {},
     "output_type": "execute_result"
    }
   ],
   "source": [
    "# while the data frame has 47\n",
    "df.user_id.nunique()"
   ]
  },
  {
   "cell_type": "code",
   "execution_count": 14,
   "id": "d966773a",
   "metadata": {},
   "outputs": [],
   "source": [
    "# change id name to cohort id\n",
    "df=pd.merge(df,cohort,on='cohort_id')"
   ]
  },
  {
   "cell_type": "code",
   "execution_count": 15,
   "id": "e2ff8a32",
   "metadata": {},
   "outputs": [
    {
     "name": "stdout",
     "output_type": "stream",
     "text": [
      "<class 'pandas.core.frame.DataFrame'>\n",
      "Int64Index: 847330 entries, 0 to 847329\n",
      "Data columns (total 20 columns):\n",
      " #   Column        Non-Null Count   Dtype  \n",
      "---  ------        --------------   -----  \n",
      " 0   cohort_id     847330 non-null  int64  \n",
      " 1   name_x        847330 non-null  object \n",
      " 2   slack_x       847330 non-null  object \n",
      " 3   start_date_x  847330 non-null  object \n",
      " 4   end_date_x    847330 non-null  object \n",
      " 5   created_at_x  847330 non-null  object \n",
      " 6   updated_at_x  847330 non-null  object \n",
      " 7   program_id_x  847330 non-null  int64  \n",
      " 8   date          847330 non-null  object \n",
      " 9   endpoint      847329 non-null  object \n",
      " 10  user_id       847330 non-null  int64  \n",
      " 11  source_ip     847330 non-null  object \n",
      " 12  name_y        847330 non-null  object \n",
      " 13  slack_y       847330 non-null  object \n",
      " 14  start_date_y  847330 non-null  object \n",
      " 15  end_date_y    847330 non-null  object \n",
      " 16  created_at_y  847330 non-null  object \n",
      " 17  updated_at_y  847330 non-null  object \n",
      " 18  deleted_at    0 non-null       float64\n",
      " 19  program_id_y  847330 non-null  int64  \n",
      "dtypes: float64(1), int64(4), object(15)\n",
      "memory usage: 135.8+ MB\n"
     ]
    }
   ],
   "source": [
    "# zero missing values, drop deleted_at\n",
    "df.info()"
   ]
  },
  {
   "cell_type": "code",
   "execution_count": null,
   "id": "2747edf6",
   "metadata": {},
   "outputs": [],
   "source": []
  }
 ],
 "metadata": {
  "kernelspec": {
   "display_name": "Python 3 (ipykernel)",
   "language": "python",
   "name": "python3"
  },
  "language_info": {
   "codemirror_mode": {
    "name": "ipython",
    "version": 3
   },
   "file_extension": ".py",
   "mimetype": "text/x-python",
   "name": "python",
   "nbconvert_exporter": "python",
   "pygments_lexer": "ipython3",
   "version": "3.9.12"
  }
 },
 "nbformat": 4,
 "nbformat_minor": 5
}
